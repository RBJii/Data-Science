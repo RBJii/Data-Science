{
    "nbformat_minor": 2, 
    "cells": [
        {
            "source": "print(\"Hello World !!\")", 
            "cell_type": "code", 
            "metadata": {}, 
            "outputs": [
                {
                    "output_type": "stream", 
                    "name": "stdout", 
                    "text": "Hello World !!\n"
                }
            ], 
            "execution_count": 1
        }, 
        {
            "source": "num1 = 2 \nnum2 = 3\nprint(num1+num2)", 
            "cell_type": "code", 
            "metadata": {
                "scrolled": true
            }, 
            "outputs": [
                {
                    "output_type": "stream", 
                    "name": "stdout", 
                    "text": "5\n"
                }
            ], 
            "execution_count": 2
        }, 
        {
            "source": "## Recursion Program in Python", 
            "cell_type": "markdown", 
            "metadata": {}
        }, 
        {
            "source": "def tri_recursion(k):\n  print(\"The recursion value passed is\", k)\n  if(k>0):\n    result = k+tri_recursion(k-1)\n    print(\"The result for the K value\", k, \"is\", result)\n  else:\n    result = 0\n  return result\n\nprint(\"\\n\\nRecursion Example Results\")\ntri_recursion(6) ", 
            "cell_type": "code", 
            "metadata": {}, 
            "outputs": [
                {
                    "output_type": "stream", 
                    "name": "stdout", 
                    "text": "\n\nRecursion Example Results\nThe recursion value passed is 6\nThe recursion value passed is 5\nThe recursion value passed is 4\nThe recursion value passed is 3\nThe recursion value passed is 2\nThe recursion value passed is 1\nThe recursion value passed is 0\nThe result for the K value 1 is 1\nThe result for the K value 2 is 3\nThe result for the K value 3 is 6\nThe result for the K value 4 is 10\nThe result for the K value 5 is 15\nThe result for the K value 6 is 21\n"
                }, 
                {
                    "execution_count": 11, 
                    "output_type": "execute_result", 
                    "data": {
                        "text/plain": "21"
                    }, 
                    "metadata": {}
                }
            ], 
            "execution_count": 11
        }, 
        {
            "source": "def add(a,b):\n    result= a + b\n    return result\n", 
            "cell_type": "code", 
            "metadata": {}, 
            "outputs": [
                {
                    "execution_count": 16, 
                    "output_type": "execute_result", 
                    "data": {
                        "text/plain": "11"
                    }, 
                    "metadata": {}
                }
            ], 
            "execution_count": 16
        }, 
        {
            "source": "# Embedding Image into Jupyter Notebook\n\n## 7 Wonders of the world", 
            "cell_type": "markdown", 
            "metadata": {}
        }, 
        {
            "source": "## 1) TAJ MAHAL - THE INDIA's PRIDE\n\n![alt-text](https://github.com/RBJii/JD-Edwards/blob/master/taj-mahal-wide-screen-hd-postures.jpg.jpg?raw=truehttp://itrendzin.blogspot.com/2013/09/7-wonders-of-world-awesome-wallpapers.html  \"The pride of India - Taj Mahal\")\n\n## 2) Statue of Liberty\n\n![alt-text](https://github.com/RBJii/JD-Edwards/blob/master/statue-of-liberty-wide-hd-wallpapers.jpg?raw=true \"Statue of Liberty\")\n\n## 3) Great Wall of China\n\n![alt-text](https://github.com/RBJii/JD-Edwards/blob/master/great-wall-of-china-whole-hd-wallpapers.jpg?raw=true \"Great Wall of China\")\n\n## Eiffel Tower - France\n\n![alt-text](https://github.com/RBJii/JD-Edwards/blob/master/eiffel-tower-night-hd-wallpaper.jpg.jpg?raw=true \"Eiffel Tower - France\")\n\n## 5) Niagara Falls - America\n\n![alt-text](https://github.com/RBJii/JD-Edwards/blob/master/niagara-falls-hd-wallpapers.jpg?raw=true \"Niagara Falls\")\n\n## 6) Pyramid \n\n![alt-text](https://github.com/RBJii/JD-Edwards/blob/master/Pyramid-amazing-view-hd-wallpapers.jpg?raw=true \"Pyramid\")\n\n## 7) Colosseum \n\n![alt-text](https://github.com/RBJii/JD-Edwards/blob/master/Colosseum-beautiful-at-night-hd-wallpapers.jpg?raw=true \"Colosseum\")", 
            "cell_type": "markdown", 
            "metadata": {}
        }, 
        {
            "source": "", 
            "cell_type": "code", 
            "metadata": {}, 
            "outputs": [], 
            "execution_count": null
        }, 
        {
            "source": "", 
            "cell_type": "code", 
            "metadata": {}, 
            "outputs": [], 
            "execution_count": null
        }
    ], 
    "metadata": {
        "kernelspec": {
            "display_name": "Python 3.5", 
            "name": "python3", 
            "language": "python"
        }, 
        "language_info": {
            "mimetype": "text/x-python", 
            "nbconvert_exporter": "python", 
            "version": "3.5.5", 
            "name": "python", 
            "pygments_lexer": "ipython3", 
            "file_extension": ".py", 
            "codemirror_mode": {
                "version": 3, 
                "name": "ipython"
            }
        }
    }, 
    "nbformat": 4
}