{
    "nbformat_minor": 1, 
    "cells": [
        {
            "source": "# 1D Numpy in Python", 
            "cell_type": "markdown", 
            "metadata": {
                "collapsed": true
            }
        }, 
        {
            "source": "#List and Numpy array are similiar almost in major aspects. Now we look at an example \n\nimport numpy as np\n\na = [1,4,5,6,7]\nb = np.array(a[:]) #making copy of list 'a' to the numpy array 'b'\nprint(\"Note the difference of different output \\n\") #check the output of list \nprint(a,\"\\n\",b) #check the output of numpy array, \"see the different\"", 
            "cell_type": "code", 
            "metadata": {}, 
            "outputs": [
                {
                    "output_type": "stream", 
                    "name": "stdout", 
                    "text": "Note the difference of different output \n\n[1, 4, 5, 6, 7] \n [1 4 5 6 7]\n"
                }
            ], 
            "execution_count": 17
        }, 
        {
            "source": "#let's check the data type of both a and b\n\nprint(\"The type of variable 'a' is\", type(a))\nprint(\"The type of variable 'b' is\", type(b))", 
            "cell_type": "code", 
            "metadata": {}, 
            "outputs": [
                {
                    "output_type": "stream", 
                    "name": "stdout", 
                    "text": "The type of variable 'a' is <class 'list'>\nThe type of variable 'b' is <class 'numpy.ndarray'>\n"
                }
            ], 
            "execution_count": 11
        }, 
        {
            "source": "#lets pull the value of each variable based on index value\n\nprint(\"a[0]:\", a[0])\nprint(\"b[0]:\", b[0])", 
            "cell_type": "code", 
            "metadata": {}, 
            "outputs": [
                {
                    "output_type": "stream", 
                    "name": "stdout", 
                    "text": "a[0]: 1\nb[0]: 1\n"
                }
            ], 
            "execution_count": 18
        }, 
        {
            "source": "#Let's see the combination of both\n\nc = np.array([2,4,5,9,10]) #what can be the data type, guess ?\nprint(type(c))\nprint(c.dtype)\n\nd = np.array([3.4,4.5,5.6,121.0,4.6])\nprint(type(d))\nprint(d.dtype)", 
            "cell_type": "code", 
            "metadata": {}, 
            "outputs": [
                {
                    "output_type": "stream", 
                    "name": "stdout", 
                    "text": "<class 'numpy.ndarray'>\nint64\n<class 'numpy.ndarray'>\nfloat64\n"
                }
            ], 
            "execution_count": 23
        }, 
        {
            "source": "#We can also change the value of numpy array directly using index\n\nprint(\"Before making changes the d[3]:\", d[3])\nd[3] = 12.1\nprint(\"After making changes the d[3]:\", d[3])\nprint(\"The complete array now\",d)", 
            "cell_type": "code", 
            "metadata": {}, 
            "outputs": [
                {
                    "output_type": "stream", 
                    "name": "stdout", 
                    "text": "Before making changes the d[3]: 12.1\nAfter making changes the d[3]: 12.1\nThe complete array now [  3.4   4.5   5.6  12.1   4.6]\n"
                }
            ], 
            "execution_count": 27
        }, 
        {
            "source": "# Will move to the SLICING topic\n\ne = d[1:3] #1st value will e included and second value will be excluded\nprint(e)", 
            "cell_type": "code", 
            "metadata": {}, 
            "outputs": [
                {
                    "output_type": "stream", 
                    "name": "stdout", 
                    "text": "[ 4.5  5.6]\n"
                }
            ], 
            "execution_count": 36
        }, 
        {
            "source": "e = np.append(8.5, 9.0)\ne = np.append(e, [4.5, 5.6] )\ne", 
            "cell_type": "code", 
            "metadata": {}, 
            "outputs": [
                {
                    "output_type": "execute_result", 
                    "data": {
                        "text/plain": "array([ 8.5,  9. ,  4.5,  5.6])"
                    }, 
                    "execution_count": 42, 
                    "metadata": {}
                }
            ], 
            "execution_count": 42
        }, 
        {
            "source": "select = [0,2,3] #This is the list of some values\n\n#We are going to use the list as index for the np.array of 'e'\n\ne[select] #See the output, it selects the value of indicies = 0,2,3 of 'e'", 
            "cell_type": "code", 
            "metadata": {}, 
            "outputs": [
                {
                    "output_type": "execute_result", 
                    "data": {
                        "text/plain": "array([ 8.5,  4.5,  5.6])"
                    }, 
                    "execution_count": 44, 
                    "metadata": {}
                }
            ], 
            "execution_count": 44
        }, 
        {
            "source": "#lets change all the values at the select indices with a common value\n\ne[select] = 2.0\n\n#Now check the \"e\"\n\ne #Hope you got the point, what am trying to so.. !! This is called assign value with List", 
            "cell_type": "code", 
            "metadata": {}, 
            "outputs": [
                {
                    "output_type": "execute_result", 
                    "data": {
                        "text/plain": "array([ 2.,  9.,  2.,  2.])"
                    }, 
                    "execution_count": 47, 
                    "metadata": {}
                }
            ], 
            "execution_count": 47
        }, 
        {
            "source": "#Let's play the game with the functionalities of numpy like min, max, mean, standard deviation\n\na1 = np.array([1,3,4,5,8,9,4])\na1\nb1 = np.array([2,100,30, 45])", 
            "cell_type": "code", 
            "metadata": {}, 
            "outputs": [], 
            "execution_count": 68
        }, 
        {
            "source": "a1.min()", 
            "cell_type": "code", 
            "metadata": {}, 
            "outputs": [
                {
                    "output_type": "execute_result", 
                    "data": {
                        "text/plain": "1"
                    }, 
                    "execution_count": 69, 
                    "metadata": {}
                }
            ], 
            "execution_count": 69
        }, 
        {
            "source": "a1.max()", 
            "cell_type": "code", 
            "metadata": {}, 
            "outputs": [
                {
                    "output_type": "execute_result", 
                    "data": {
                        "text/plain": "9"
                    }, 
                    "execution_count": 70, 
                    "metadata": {}
                }
            ], 
            "execution_count": 70
        }, 
        {
            "source": "a1.sort() # this sorted the original list\na1", 
            "cell_type": "code", 
            "metadata": {}, 
            "outputs": [
                {
                    "output_type": "execute_result", 
                    "data": {
                        "text/plain": "array([1, 3, 4, 4, 5, 8, 9])"
                    }, 
                    "execution_count": 71, 
                    "metadata": {}
                }
            ], 
            "execution_count": 71
        }, 
        {
            "source": "#whereas lets see the changes making for b1\n\nb2 = sorted(b1)  #this is more important \nprint(\"the b1 array is\", b1)\nprint(\"the b2 array is\", b2)", 
            "cell_type": "code", 
            "metadata": {}, 
            "outputs": [
                {
                    "output_type": "stream", 
                    "name": "stdout", 
                    "text": "the b1 array is [  2 100  30  45]\nthe b2 array is [2, 30, 45, 100]\n"
                }
            ], 
            "execution_count": 75
        }, 
        {
            "source": "mean = a1.mean()\nmean", 
            "cell_type": "code", 
            "metadata": {}, 
            "outputs": [
                {
                    "output_type": "execute_result", 
                    "data": {
                        "text/plain": "4.8571428571428568"
                    }, 
                    "execution_count": 77, 
                    "metadata": {}
                }
            ], 
            "execution_count": 77
        }, 
        {
            "source": "std = a1.std()\nstd", 
            "cell_type": "code", 
            "metadata": {}, 
            "outputs": [
                {
                    "output_type": "execute_result", 
                    "data": {
                        "text/plain": "2.5872528966106905"
                    }, 
                    "execution_count": 79, 
                    "metadata": {}
                }
            ], 
            "execution_count": 79
        }, 
        {
            "source": "#Will work on Numpy add, sub, mul & etc\n\nprint(a)\nprint(b)\nprint(c)", 
            "cell_type": "code", 
            "metadata": {}, 
            "outputs": [
                {
                    "output_type": "stream", 
                    "name": "stdout", 
                    "text": "[1, 4, 5, 6, 7]\n[1 4 5 6 7]\n[ 2  4  5  9 10]\n"
                }
            ], 
            "execution_count": 82
        }, 
        {
            "source": "z = b + c", 
            "cell_type": "code", 
            "metadata": {}, 
            "outputs": [], 
            "execution_count": 83
        }, 
        {
            "source": "z", 
            "cell_type": "code", 
            "metadata": {}, 
            "outputs": [
                {
                    "output_type": "execute_result", 
                    "data": {
                        "text/plain": "array([ 3,  8, 10, 15, 17])"
                    }, 
                    "execution_count": 84, 
                    "metadata": {}
                }
            ], 
            "execution_count": 84
        }, 
        {
            "source": "#now multiplication\n\nz1 = 2*a # here i used the list instead of numpy array, see the results and find the difference\nprint(z1) # here output replicated twice of same list\n\nz2 = 2*b\nprint(z2) #numpy array got multiplied with 2", 
            "cell_type": "code", 
            "metadata": {}, 
            "outputs": [
                {
                    "output_type": "stream", 
                    "name": "stdout", 
                    "text": "[1, 4, 5, 6, 7, 1, 4, 5, 6, 7]\n[ 2  8 10 12 14]\n"
                }
            ], 
            "execution_count": 88
        }, 
        {
            "source": "b.shape\nc.shape", 
            "cell_type": "code", 
            "metadata": {}, 
            "outputs": [
                {
                    "output_type": "execute_result", 
                    "data": {
                        "text/plain": "(5,)"
                    }, 
                    "execution_count": 91, 
                    "metadata": {}
                }
            ], 
            "execution_count": 91
        }, 
        {
            "source": "#Multiplication of 2 arrays\n\nz3 = b*c\nprint(z3)\n\n#Lets see multiplication of different array size, hope we will see the error :-p\nu = np.array([1,2,3])\nv = np.array([6,7])\nz4 = u*v\nprint(z4)", 
            "cell_type": "code", 
            "metadata": {}, 
            "outputs": [
                {
                    "output_type": "stream", 
                    "name": "stdout", 
                    "text": "[ 2 16 25 54 70]\n"
                }, 
                {
                    "output_type": "error", 
                    "evalue": "operands could not be broadcast together with shapes (3,) (2,) ", 
                    "traceback": [
                        "\u001b[0;31m---------------------------------------------------------------------------\u001b[0m", 
                        "\u001b[0;31mValueError\u001b[0m                                Traceback (most recent call last)", 
                        "\u001b[0;32m<ipython-input-94-1f966e25f843>\u001b[0m in \u001b[0;36m<module>\u001b[0;34m()\u001b[0m\n\u001b[1;32m      7\u001b[0m \u001b[0mu\u001b[0m \u001b[0;34m=\u001b[0m \u001b[0mnp\u001b[0m\u001b[0;34m.\u001b[0m\u001b[0marray\u001b[0m\u001b[0;34m(\u001b[0m\u001b[0;34m[\u001b[0m\u001b[0;36m1\u001b[0m\u001b[0;34m,\u001b[0m\u001b[0;36m2\u001b[0m\u001b[0;34m,\u001b[0m\u001b[0;36m3\u001b[0m\u001b[0;34m]\u001b[0m\u001b[0;34m)\u001b[0m\u001b[0;34m\u001b[0m\u001b[0m\n\u001b[1;32m      8\u001b[0m \u001b[0mv\u001b[0m \u001b[0;34m=\u001b[0m \u001b[0mnp\u001b[0m\u001b[0;34m.\u001b[0m\u001b[0marray\u001b[0m\u001b[0;34m(\u001b[0m\u001b[0;34m[\u001b[0m\u001b[0;36m6\u001b[0m\u001b[0;34m,\u001b[0m\u001b[0;36m7\u001b[0m\u001b[0;34m]\u001b[0m\u001b[0;34m)\u001b[0m\u001b[0;34m\u001b[0m\u001b[0m\n\u001b[0;32m----> 9\u001b[0;31m \u001b[0mz4\u001b[0m \u001b[0;34m=\u001b[0m \u001b[0mu\u001b[0m\u001b[0;34m*\u001b[0m\u001b[0mv\u001b[0m\u001b[0;34m\u001b[0m\u001b[0m\n\u001b[0m\u001b[1;32m     10\u001b[0m \u001b[0mprint\u001b[0m\u001b[0;34m(\u001b[0m\u001b[0mz4\u001b[0m\u001b[0;34m)\u001b[0m\u001b[0;34m\u001b[0m\u001b[0m\n", 
                        "\u001b[0;31mValueError\u001b[0m: operands could not be broadcast together with shapes (3,) (2,) "
                    ], 
                    "ename": "ValueError"
                }
            ], 
            "execution_count": 94
        }, 
        {
            "source": "", 
            "cell_type": "code", 
            "metadata": {}, 
            "outputs": [], 
            "execution_count": null
        }
    ], 
    "metadata": {
        "kernelspec": {
            "display_name": "Python 3.5", 
            "name": "python3", 
            "language": "python"
        }, 
        "language_info": {
            "mimetype": "text/x-python", 
            "nbconvert_exporter": "python", 
            "version": "3.5.5", 
            "name": "python", 
            "file_extension": ".py", 
            "pygments_lexer": "ipython3", 
            "codemirror_mode": {
                "version": 3, 
                "name": "ipython"
            }
        }
    }, 
    "nbformat": 4
}