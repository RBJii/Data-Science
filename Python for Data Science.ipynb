{
    "nbformat_minor": 1, 
    "cells": [
        {
            "source": "# Python - Writing Your First Python Code!", 
            "cell_type": "markdown", 
            "metadata": {
                "collapsed": true
            }
        }, 
        {
            "source": "**Welcome!** This notebook will teach you the basics of the Python programming language. Although the information presented here is quite basic, it is an important foundation that will help you read and write Python code. By the end of this notebook, you'll know the basics of Python, including how to write basic commands, understand some basic types, and how to perform simple operations on them.", 
            "cell_type": "markdown", 
            "metadata": {}
        }, 
        {
            "source": "<h2>Table of Contents</h2>\n<div  style=\"margin-top: 20px\">\n    <ul>\n        <li>\n            <a href=\"#hello\">Say \"Hello\" to the world in Python</a>\n            <ul>\n                <li><a href=\"version\">What version of Python are we using?</a></li>\n                <li><a href=\"comments\">Writing comments in Python</a></li>\n                <li><a href=\"errors\">Errors in Python</a></li>\n                <li><a href=\"python_error\">Does Python know about your error before it runs your code?</a></li>\n                <li><a href=\"exercise\">Exercise: Your First Program</a></li>\n            </ul>\n        </li>\n        <li>\n            <a href=\"#types_objects\">Types of objects in Python</a>\n            <ul>\n                <li><a href=\"int\">Integers</a></li>\n                <li><a href=\"float\">Floats</a></li>\n                <li><a href=\"convert\">Converting from one object type to a different object type</a></li>\n                <li><a href=\"bool\">Boolean data type</a></li>\n                <li><a href=\"exer_type\">Exercise: Types</a></li>\n            </ul>\n        </li>\n        <li>\n            <a href=\"#expressions\">Expressions and Variables</a>\n            <ul>\n                <li><a href=\"exp\">Expressions</a></li>\n                <li><a href=\"exer_exp\">Exercise: Expressions</a></li>\n                <li><a href=\"var\">Variables</a></li>\n                <li><a href=\"exer_exp_var\">Exercise: Expression and Variables in Python</a></li>\n            </ul>\n        </li>\n    </ul>\n    <p>\n        Estimated time needed: <strong>25 min</strong>\n    </p>\n</div>\n\n<hr>", 
            "cell_type": "markdown", 
            "metadata": {}
        }, 
        {
            "source": "# Say \"Hello\" to the world in Python\n\nWhen learning a new programming language, it is customary to start with an \"hello world\" example. As simple as it is, this one line of code will ensure that we know how to print a string in output and how to execute code within cells in a notebook.\n\n<hr/>\n<div class=\"alert alert-success alertsuccess\" style=\"margin-top: 20px\">\n[Tip]: To execute the Python code in the code cell below, click on the cell to select it and press <kbd>Shift</kbd> + <kbd>Enter</kbd>.\n</div>\n<hr/>", 
            "cell_type": "markdown", 
            "metadata": {}
        }, 
        {
            "source": "# Try your first Python output\n\nprint('Hello, Python!')", 
            "cell_type": "code", 
            "metadata": {}, 
            "outputs": [
                {
                    "output_type": "stream", 
                    "name": "stdout", 
                    "text": "Hello, Python!\n"
                }
            ], 
            "execution_count": 23
        }, 
        {
            "source": "After executing the cell above, you should see that Python prints <code>Hello, Python!</code>. Congratulations on running your first Python code!", 
            "cell_type": "markdown", 
            "metadata": {}
        }, 
        {
            "source": "<hr/>\n<div class=\"alert alert-success alertsuccess\" style=\"margin-top: 20px\">\n    [Tip:] <code>print()</code> is a function. You passed the string <code>'Hello, Python!'</code> as an argument to instruct Python on what to print.\n</div>\n<hr/>", 
            "cell_type": "markdown", 
            "metadata": {}
        }, 
        {
            "source": "# What version of Python are we using?\n\nThere are two popular versions of the Python programming language in use today: Python 2 and Python 3. The Python community has decided to move on from Python 2 to Python 3, and many popular libraries have announced that they will no longer support Python 2.\n\nSince Python 3 is the future, in this course we will be using it exclusively. How do we know that our notebook is executed by a Python 3 runtime? We can look in the top-right hand corner of this notebook and see \"Python 3\".\n\nWe can also ask directly Python and obtain a detailed answer. Try executing the following code:", 
            "cell_type": "markdown", 
            "metadata": {}
        }, 
        {
            "source": "# Check the Python Version\n\nimport sys\nprint(sys.version)", 
            "cell_type": "code", 
            "metadata": {}, 
            "outputs": [
                {
                    "output_type": "stream", 
                    "name": "stdout", 
                    "text": "3.5.5 |Anaconda, Inc.| (default, May 13 2018, 21:12:35) \n[GCC 7.2.0]\n"
                }
            ], 
            "execution_count": 24
        }, 
        {
            "source": "<hr/>\n<div class=\"alert alert-success alertsuccess\" style=\"margin-top: 20px\">\n    [Tip:] <code>sys</code> is a built-in module that contains many system-specific parameters and functions, including the Python version in use. Before using it, we must explictly <code>import</code> it.\n</div>\n<hr/>", 
            "cell_type": "markdown", 
            "metadata": {}
        }, 
        {
            "source": "<h3> Writing comments in Python </h3>\n\nIn addition to writing code, note that it's always a good idea to add comments to your code. It will help others understand what you were trying to accomplish (the reason why you wrote a given snippet of code). Not only does this help other people understand your code, it can also serve as a reminder to you when you come back to it weeks or months later.\n\nTo write comments in Python, use the number symbol # before writing your comment. When you run your code, Python will ignore everything past the # on a given line.", 
            "cell_type": "markdown", 
            "metadata": {}
        }, 
        {
            "source": "# Practise writing comments in the code \n\nprint(\"Hello, Python\") # This line prints a string\n#print(\"Hoi\")", 
            "cell_type": "code", 
            "metadata": {}, 
            "outputs": [
                {
                    "output_type": "stream", 
                    "name": "stdout", 
                    "text": "Hello, Python\n"
                }
            ], 
            "execution_count": 25
        }, 
        {
            "source": "<p>After executing the cell above, you should notice that <code>This line prints a string</code> did not appear in the output, because it was a comment (and thus ignored by Python).</p>\n\n<p>The second line was also not executed because <code> print('Hi') </code>was preceded by the number sign <code>(#)</code> as well! Since this isn't an explanatory comment from the programmer, but an actual line of code, we might say that the programmer commented out that second line of code.</p>", 
            "cell_type": "markdown", 
            "metadata": {}
        }, 
        {
            "source": "<h3> Errors in Python </h3>\n\nEveryone makes mistakes. For many types of mistakes, Python will tell you that you have made a mistake by giving you an error message. It is important to read error messages carefully to really understand where you made a mistake and how you may go about correcting it.\n\nFor example, if you spell <code>print</code> as <code>frint</code>, Python will display an error message. Give it a try:", 
            "cell_type": "markdown", 
            "metadata": {}
        }, 
        {
            "source": "# Print string as error message\n\nfrint(\"Hello, Python!\")", 
            "cell_type": "code", 
            "metadata": {}, 
            "outputs": [
                {
                    "output_type": "error", 
                    "evalue": "name 'frint' is not defined", 
                    "traceback": [
                        "\u001b[0;31m---------------------------------------------------------------------------\u001b[0m", 
                        "\u001b[0;31mNameError\u001b[0m                                 Traceback (most recent call last)", 
                        "\u001b[0;32m<ipython-input-26-bc81942a2137>\u001b[0m in \u001b[0;36m<module>\u001b[0;34m()\u001b[0m\n\u001b[1;32m      1\u001b[0m \u001b[0;31m# Print string as error message\u001b[0m\u001b[0;34m\u001b[0m\u001b[0;34m\u001b[0m\u001b[0m\n\u001b[1;32m      2\u001b[0m \u001b[0;34m\u001b[0m\u001b[0m\n\u001b[0;32m----> 3\u001b[0;31m \u001b[0mfrint\u001b[0m\u001b[0;34m(\u001b[0m\u001b[0;34m\"Hello, Python!\"\u001b[0m\u001b[0;34m)\u001b[0m\u001b[0;34m\u001b[0m\u001b[0m\n\u001b[0m", 
                        "\u001b[0;31mNameError\u001b[0m: name 'frint' is not defined"
                    ], 
                    "ename": "NameError"
                }
            ], 
            "execution_count": 26
        }, 
        {
            "source": "The error message tells you:\n\nwhere the error occurred (more useful in large notebook cells or scripts), and\nwhat kind of error it was (NameError)\nHere, Python attempted to run the function <code>frint</code>, but could not determine what frint is since it's not a built-in function and it has not been previously defined by us either.\n\nYou'll notice that if we make a different type of mistake, by **forgetting to close the string**, we'll obtain a different error (i.e., a <code>SyntaxError</code>). Try it below:", 
            "cell_type": "markdown", 
            "metadata": {}
        }, 
        {
            "source": "# Try to see build in error message\n\nprint(\"Hello, Python!)", 
            "cell_type": "code", 
            "metadata": {}, 
            "outputs": [
                {
                    "output_type": "error", 
                    "evalue": "EOL while scanning string literal (<ipython-input-27-5bdb04fa43c5>, line 3)", 
                    "traceback": [
                        "\u001b[0;36m  File \u001b[0;32m\"<ipython-input-27-5bdb04fa43c5>\"\u001b[0;36m, line \u001b[0;32m3\u001b[0m\n\u001b[0;31m    print(\"Hello, Python!)\u001b[0m\n\u001b[0m                          ^\u001b[0m\n\u001b[0;31mSyntaxError\u001b[0m\u001b[0;31m:\u001b[0m EOL while scanning string literal\n"
                    ], 
                    "ename": "SyntaxError"
                }
            ], 
            "execution_count": 27
        }, 
        {
            "source": "<h3>Does Python know about your error before it runs your code? </h3>\n\nPython is what is called an interpreted language. Compiled languages examine your entire program at compile time, and are able to warn you about a whole class of errors prior to execution. In contrast, Python interprets your script line by line as it executes it. Python will stop executing the entire program when it encounters an error (unless the error is expected and handled by the programmer, a more advanced subject that we'll cover later on in this course).\n\nTry to run the code in the cell below and see what happens:", 
            "cell_type": "markdown", 
            "metadata": {}
        }, 
        {
            "source": "# Print string and error to see the running order\n\nprint(\"This will be printed\")\nfrint(\"This will cause an error\")\nprint(\"This will NOT be printed\")", 
            "cell_type": "code", 
            "metadata": {
                "scrolled": true
            }, 
            "outputs": [
                {
                    "output_type": "stream", 
                    "name": "stdout", 
                    "text": "This will be printed\n"
                }, 
                {
                    "output_type": "error", 
                    "evalue": "name 'frint' is not defined", 
                    "traceback": [
                        "\u001b[0;31m---------------------------------------------------------------------------\u001b[0m", 
                        "\u001b[0;31mNameError\u001b[0m                                 Traceback (most recent call last)", 
                        "\u001b[0;32m<ipython-input-28-8fb0611ec76e>\u001b[0m in \u001b[0;36m<module>\u001b[0;34m()\u001b[0m\n\u001b[1;32m      2\u001b[0m \u001b[0;34m\u001b[0m\u001b[0m\n\u001b[1;32m      3\u001b[0m \u001b[0mprint\u001b[0m\u001b[0;34m(\u001b[0m\u001b[0;34m\"This will be printed\"\u001b[0m\u001b[0;34m)\u001b[0m\u001b[0;34m\u001b[0m\u001b[0m\n\u001b[0;32m----> 4\u001b[0;31m \u001b[0mfrint\u001b[0m\u001b[0;34m(\u001b[0m\u001b[0;34m\"This will cause an error\"\u001b[0m\u001b[0;34m)\u001b[0m\u001b[0;34m\u001b[0m\u001b[0m\n\u001b[0m\u001b[1;32m      5\u001b[0m \u001b[0mprint\u001b[0m\u001b[0;34m(\u001b[0m\u001b[0;34m\"This will NOT be printed\"\u001b[0m\u001b[0;34m)\u001b[0m\u001b[0;34m\u001b[0m\u001b[0m\n", 
                        "\u001b[0;31mNameError\u001b[0m: name 'frint' is not defined"
                    ], 
                    "ename": "NameError"
                }
            ], 
            "execution_count": 28
        }, 
        {
            "source": "### Exercise: Your First Program\n\nGenerations of programmers have started their coding careers by simply printing \"Hello, world!\". You will be following in their footsteps.\n\nIn the code cell below, use the <code>print()</code> function to print out the phrase: Hello, world!", 
            "cell_type": "markdown", 
            "metadata": {}
        }, 
        {
            "source": "#write your code here ", 
            "cell_type": "code", 
            "metadata": {}, 
            "outputs": [], 
            "execution_count": 30
        }, 
        {
            "source": "Double-click __here__ for the solution.\n\n<!-- Your answer is below:\n\nprint(\"Hello, world!\")\n\n-->", 
            "cell_type": "markdown", 
            "metadata": {}
        }, 
        {
            "source": "Now, let's enhance your code with a comment. In the code cell below, print out the phrase: Hello, world! and <code>comment it</code> with the phrase **Print the traditional hello world** all in one line of code.", 
            "cell_type": "markdown", 
            "metadata": {}
        }, 
        {
            "source": "#write your code here ", 
            "cell_type": "code", 
            "metadata": {}, 
            "outputs": [], 
            "execution_count": null
        }, 
        {
            "source": "Double-click __here__ for the solution.\n\n<!--- Your answer here\n\nprint(\"Hello, World!\") #Print the traditional hello world\n\n--->", 
            "cell_type": "markdown", 
            "metadata": {}
        }, 
        {
            "source": "# Types of objects in Python\n\nPython is an object-oriented language. There are many different types of objects in Python. Let's start with the most common object types: strings, integers and floats. Anytime you write words (text) in Python, you're using character strings (strings for short). The most common numbers, on the other hand, are integers (e.g. -1, 0, 100) and floats, which represent real numbers (e.g. 3.14, -42.0).\n\n\n<a align=\"center\">\n    <img src=\"https://s3-api.us-geo.objectstorage.softlayer.net/cf-courses-data/CognitiveClass/PY0101EN/Chapter%201/Images/TypesObjects.png\" width=\"600\">\n</a>\n\n#### The following code cells contain some examples.", 
            "cell_type": "markdown", 
            "metadata": {}
        }, 
        {
            "source": "# Integer\n\n11", 
            "cell_type": "code", 
            "metadata": {}, 
            "outputs": [
                {
                    "output_type": "execute_result", 
                    "data": {
                        "text/plain": "11"
                    }, 
                    "execution_count": 34, 
                    "metadata": {}
                }
            ], 
            "execution_count": 34
        }, 
        {
            "source": "# Float\n\n2.14", 
            "cell_type": "code", 
            "metadata": {}, 
            "outputs": [
                {
                    "output_type": "execute_result", 
                    "data": {
                        "text/plain": "2.14"
                    }, 
                    "execution_count": 35, 
                    "metadata": {}
                }
            ], 
            "execution_count": 35
        }, 
        {
            "source": "# String\n\n\"Hello, Python 101!\"", 
            "cell_type": "code", 
            "metadata": {}, 
            "outputs": [
                {
                    "output_type": "execute_result", 
                    "data": {
                        "text/plain": "'Hello, Python 101!'"
                    }, 
                    "execution_count": 36, 
                    "metadata": {}
                }
            ], 
            "execution_count": 36
        }, 
        {
            "source": "You can get Python to tell you the type of an expression by using the built-in <code>type()</code> function. You'll notice that Python refers to integers as <code>int</code>, floats as <code>float</code>, and character strings as <code>str</code>", 
            "cell_type": "markdown", 
            "metadata": {}
        }, 
        {
            "source": "# Type of 12\n\ntype(12)", 
            "cell_type": "code", 
            "metadata": {}, 
            "outputs": [
                {
                    "output_type": "execute_result", 
                    "data": {
                        "text/plain": "int"
                    }, 
                    "execution_count": 37, 
                    "metadata": {}
                }
            ], 
            "execution_count": 37
        }, 
        {
            "source": "# Type of 2.14\n\ntype(2.14)", 
            "cell_type": "code", 
            "metadata": {}, 
            "outputs": [
                {
                    "output_type": "execute_result", 
                    "data": {
                        "text/plain": "float"
                    }, 
                    "execution_count": 38, 
                    "metadata": {}
                }
            ], 
            "execution_count": 38
        }, 
        {
            "source": "# Type of \"Hello, Python 101!\"\n\ntype(\"Hello, Python 101!\")", 
            "cell_type": "code", 
            "metadata": {}, 
            "outputs": [
                {
                    "output_type": "execute_result", 
                    "data": {
                        "text/plain": "str"
                    }, 
                    "execution_count": 39, 
                    "metadata": {}
                }
            ], 
            "execution_count": 39
        }, 
        {
            "source": "### In the code cell below, use the type() function to check the object type of 12.0.\n\n### Write your code below. Don't forget to press Shift+Enter to execute the cell", 
            "cell_type": "markdown", 
            "metadata": {}
        }, 
        {
            "source": "# write your code", 
            "cell_type": "code", 
            "metadata": {}, 
            "outputs": [], 
            "execution_count": 42
        }, 
        {
            "source": "Double-click __here__ for the solution.\n\n<!-- Your answer is below:\n\ntype(12.0)\n\n-->", 
            "cell_type": "markdown", 
            "metadata": {}
        }, 
        {
            "source": "### Integers\n\nHere are some examples of integers. Integers can be negative or positive numbers:\n\n<a align=\"center\">\n    <img src=\"https://s3-api.us-geo.objectstorage.softlayer.net/cf-courses-data/CognitiveClass/PY0101EN/Chapter%201/Images/TypesInt.png\" width=\"600\">\n</a>\n\nWe can verify this is the case by using, you guessed it, the type() function:", 
            "cell_type": "markdown", 
            "metadata": {}
        }, 
        {
            "source": "# Print the type of -1\n\ntype(-1)", 
            "cell_type": "code", 
            "metadata": {}, 
            "outputs": [
                {
                    "output_type": "execute_result", 
                    "data": {
                        "text/plain": "int"
                    }, 
                    "execution_count": 43, 
                    "metadata": {}
                }
            ], 
            "execution_count": 43
        }, 
        {
            "source": "# Print the type of 4\n\ntype(4)", 
            "cell_type": "code", 
            "metadata": {}, 
            "outputs": [
                {
                    "output_type": "execute_result", 
                    "data": {
                        "text/plain": "int"
                    }, 
                    "execution_count": 44, 
                    "metadata": {}
                }
            ], 
            "execution_count": 44
        }, 
        {
            "source": "# Print the type of 0\n\ntype(0)", 
            "cell_type": "code", 
            "metadata": {}, 
            "outputs": [
                {
                    "output_type": "execute_result", 
                    "data": {
                        "text/plain": "int"
                    }, 
                    "execution_count": 45, 
                    "metadata": {}
                }
            ], 
            "execution_count": 45
        }, 
        {
            "source": "### Floats\nFloats represent real numbers; they are a superset of integer numbers but also include \"numbers with decimals\". There are some limitations when it comes to machines representing real numbers, but floating point numbers are a good representation in most cases. You can learn more about the specifics of floats for your runtime environment, by checking the value of <code>sys.float_info.</code> This will also tell you what's the largest and smallest number that can be represented with them.\n\nOnce again, can test some examples with the <code>type()</code> function:", 
            "cell_type": "markdown", 
            "metadata": {}
        }, 
        {
            "source": "# Print the type of 1.0\n\ntype(1.0) # Notice that 1 is an int, and 1.0 is a float", 
            "cell_type": "code", 
            "metadata": {}, 
            "outputs": [
                {
                    "output_type": "execute_result", 
                    "data": {
                        "text/plain": "float"
                    }, 
                    "execution_count": 46, 
                    "metadata": {}
                }
            ], 
            "execution_count": 46
        }, 
        {
            "source": "# Print the type of 0.5\n\ntype(0.5)", 
            "cell_type": "code", 
            "metadata": {}, 
            "outputs": [
                {
                    "output_type": "execute_result", 
                    "data": {
                        "text/plain": "float"
                    }, 
                    "execution_count": 48, 
                    "metadata": {}
                }
            ], 
            "execution_count": 48
        }, 
        {
            "source": "# Print the type of 0.56\n\ntype(0.56)", 
            "cell_type": "code", 
            "metadata": {}, 
            "outputs": [
                {
                    "output_type": "execute_result", 
                    "data": {
                        "text/plain": "float"
                    }, 
                    "execution_count": 50, 
                    "metadata": {}
                }
            ], 
            "execution_count": 50
        }, 
        {
            "source": "# System settings about float type\n\nsys.float_info", 
            "cell_type": "code", 
            "metadata": {}, 
            "outputs": [
                {
                    "output_type": "execute_result", 
                    "data": {
                        "text/plain": "sys.float_info(max=1.7976931348623157e+308, max_exp=1024, max_10_exp=308, min=2.2250738585072014e-308, min_exp=-1021, min_10_exp=-307, dig=15, mant_dig=53, epsilon=2.220446049250313e-16, radix=2, rounds=1)"
                    }, 
                    "execution_count": 52, 
                    "metadata": {}
                }
            ], 
            "execution_count": 52
        }, 
        {
            "source": "## The last exercise!\n\nCongratulations, you have completed your first lesson and hands-on lab in Python. However, there is one more thing you need to do. The Data Science community encourages sharing work. The best way to share and showcase your work is to share it on GitHub. By sharing your notebook on GitHub you are not only building your reputation with fellow data scientists, but you can also show it off when applying for a job. Even though this was your first piece of work, it is never too early to start building good habits. So, please read and follow this article to learn how to share your work.", 
            "cell_type": "markdown", 
            "metadata": {}
        }, 
        {
            "source": "", 
            "cell_type": "code", 
            "metadata": {}, 
            "outputs": [], 
            "execution_count": null
        }
    ], 
    "metadata": {
        "kernelspec": {
            "display_name": "Python 3.5", 
            "name": "python3", 
            "language": "python"
        }, 
        "language_info": {
            "mimetype": "text/x-python", 
            "nbconvert_exporter": "python", 
            "version": "3.5.5", 
            "name": "python", 
            "pygments_lexer": "ipython3", 
            "file_extension": ".py", 
            "codemirror_mode": {
                "version": 3, 
                "name": "ipython"
            }
        }
    }, 
    "nbformat": 4
}